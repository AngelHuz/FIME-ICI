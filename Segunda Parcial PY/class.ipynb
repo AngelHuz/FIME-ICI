{
 "cells": [
  {
   "cell_type": "code",
   "execution_count": 7,
   "metadata": {},
   "outputs": [
    {
     "name": "stdout",
     "output_type": "stream",
     "text": [
      "eres menor de edad\n"
     ]
    }
   ],
   "source": [
    "edad = 15 \n",
    "if edad >= 18:\n",
    " print(\"edad\")\n",
    "else:\n",
    " print (\"eres menor de edad\")\n"
   ]
  },
  {
   "cell_type": "code",
   "execution_count": 11,
   "metadata": {},
   "outputs": [
    {
     "name": "stdout",
     "output_type": "stream",
     "text": [
      "error en el año actual, tiene que ser mayor a 0\n"
     ]
    }
   ],
   "source": [
    "#calcular la edad de una persona calculando el año actual y el año de nacimiento y validando que actual sea mayor que año de nacimiento\n",
    "#Luego validar que año actual sea mayor a 0\n",
    "a_actual = int(input(\"dame el año actual\"))\n",
    "if a_actual <= 0:\n",
    " print(\"error en el año actual, tiene que ser mayor a 0\")"
   ]
  },
  {
   "cell_type": "code",
   "execution_count": 4,
   "metadata": {},
   "outputs": [
    {
     "name": "stdout",
     "output_type": "stream",
     "text": [
      "año de nacimiento o actual incorrecto\n"
     ]
    }
   ],
   "source": [
    "#calcular la edad de una persona calculando el año actual y el año de nacimiento y validando que actual sea mayor que año de nacimiento\n",
    "#Luego validar que año actual sea mayor a 0\n",
    "\n",
    "from guizero import Text, \n",
    "\n",
    "a_actual:int = int(input(\"¿Cuál es el año actual?\"))\n",
    "a_nacimiento:int = int(input(\"dame tu año de nacimiento\"))\n",
    "edad:int = a_actual - a_nacimiento\n",
    "if a_actual <= 0:\n",
    "  print(\"error en el año actual, tiene que ser mayor a 0\")\n",
    "if a_nacimiento > a_actual or a_nacimiento < 1900:\n",
    "  print(\"año de nacimiento o actual incorrecto\") \n",
    "else:\n",
    " print(f\"Tu edad es {edad}\")\n"
   ]
  },
  {
   "cell_type": "code",
   "execution_count": 2,
   "metadata": {},
   "outputs": [
    {
     "name": "stdout",
     "output_type": "stream",
     "text": [
      "debe ser mayor de edad\n",
      "eres mayor de edad\n",
      "edad: 18\n"
     ]
    }
   ],
   "source": [
    "edad = 0\n",
    "while edad < 18:\n",
    "    edad = int(input(\"dame la edad\"))\n",
    "    if edad < 18:\n",
    "     print(\"debe ser mayor de edad\")\n",
    "    else: \n",
    "     print(\"eres mayor de edad\")\n",
    "\n",
    "print(f\"edad: {edad}\")\n",
    "\n"
   ]
  },
  {
   "cell_type": "code",
   "execution_count": 33,
   "metadata": {},
   "outputs": [
    {
     "name": "stdout",
     "output_type": "stream",
     "text": [
      "edad incorrecta\n"
     ]
    }
   ],
   "source": [
    "edad = int(input(\"dame la edada\"))\n",
    "if edad > 130:\n",
    "    print(\"edad incorrecta\")\n",
    "else:\n",
    " if edad <= 0:\n",
    "    print(\"edad incorrecta\")\n",
    " if edad > 18:\n",
    "    print(\"eres menor de edad\")\n",
    " if edad <18 and edad >=1:\n",
    "    print(\"eres menor de edad\")"
   ]
  },
  {
   "cell_type": "code",
   "execution_count": 11,
   "metadata": {},
   "outputs": [
    {
     "name": "stdout",
     "output_type": "stream",
     "text": [
      "tienes: 18.0 años\n"
     ]
    }
   ],
   "source": [
    "while True:\n",
    " a_nacimiento = 0\n",
    " a_actual = 0  \n",
    " a_nacimiento = float(input(\"¿cual es tu año de nacimiento?\"))\n",
    " if a_nacimiento < 0:\n",
    "    print(f\"año de nacimiento incorrecto\")\n",
    " a_actual = float(input(\"¿Cual es el año actual?\"))\n",
    " if a_actual <0:\n",
    "    print(f\"año actual incorrecto\")\n",
    " if a_nacimiento > a_actual:\n",
    "    print(f\"verifica los datos ingresados\")\n",
    " else:\n",
    "    print(f\"tienes: {a_actual - a_nacimiento} años\")\n",
    " break                "
   ]
  },
  {
   "cell_type": "code",
   "execution_count": 13,
   "metadata": {},
   "outputs": [],
   "source": [
    "#promedio d n números pedidos del teclado\n",
    "cant = 0\n",
    "suma = 0\n",
    "cantidad = int(input(\"cuantos valores serán?\"))\n",
    "v1 = int(input(\"dame un valor\"))\n",
    "if v1 <= 0:\n",
    "    print(\"valor no reconocido\")\n",
    "else:\n",
    "    cant = cant + 1\n",
    "    suma = suma + v1\n",
    "if cant == cantidad:\n",
    "    print ((suma)/(cantidad))\n",
    "elif: \n",
    " v2 = int(input(\"dame otro valor\"))\n",
    " if v2 <= 0:\n",
    "  print(\"valor incorrecto\") \n",
    "else:\n",
    "    cant = cant + 1\n",
    "    suma = suma + v1\n",
    "if cant == cantidad:\n",
    "    print ((suma)/(cantidad))       \n",
    "\n",
    "\n",
    "\n",
    "\n",
    "\n",
    "\n"
   ]
  },
  {
   "cell_type": "code",
   "execution_count": 29,
   "metadata": {},
   "outputs": [
    {
     "name": "stdout",
     "output_type": "stream",
     "text": [
      "numero de aprobados: 1\n"
     ]
    }
   ],
   "source": [
    "while True:\n",
    "    n_cal = int(input(\"cuantas calificaciones\"))\n",
    "    if n_cal <= 0:\n",
    "        print(\"el número de calificciones debe ser mayor a 0\")\n",
    "    else:\n",
    "        break\n",
    "\n",
    "cont = 0\n",
    "num_aprob = 0\n",
    "\n",
    "while cont <= n_cal - 1:\n",
    "    cal = int(input(\"dame la calificación{cont + 1}\"))\n",
    "    if cal <= 0 or cal > 10:\n",
    "        print(\"calificación invalida\")\n",
    "    else:\n",
    "     cont = cont + 1\n",
    "     if cal >= 7:\n",
    "         num_aprob = num_aprob + 1\n",
    "\n",
    "print(f\"numero de aprobados: {num_aprob}\")  \n",
    "### No se que esta mal welp ;_; edit: ya supe que era :)\n",
    "\n",
    "\n",
    "\n",
    "    "
   ]
  },
  {
   "cell_type": "code",
   "execution_count": 11,
   "metadata": {},
   "outputs": [
    {
     "name": "stdout",
     "output_type": "stream",
     "text": [
      "2.5\n"
     ]
    }
   ],
   "source": [
    "##PROMEDIO DE N NÚMEROS\n",
    "import random\n",
    "num = random.randint(5,10)\n",
    "\n"
   ]
  },
  {
   "cell_type": "code",
   "execution_count": 19,
   "metadata": {},
   "outputs": [
    {
     "name": "stdout",
     "output_type": "stream",
     "text": [
      "5\n",
      "8\n",
      "6\n",
      "9\n",
      "10\n",
      "6\n",
      "7\n",
      "8\n",
      "7\n",
      "8\n"
     ]
    }
   ],
   "source": [
    "for _ in range(1,11):\n",
    "    print(random.randint(5,10))\n"
   ]
  },
  {
   "cell_type": "code",
   "execution_count": 20,
   "metadata": {},
   "outputs": [
    {
     "name": "stdout",
     "output_type": "stream",
     "text": [
      "alumnos aprobados: 16\n",
      "alumnos reprobados: 9\n"
     ]
    }
   ],
   "source": [
    "#se desea saber la cantidad de alumnos (25) que pasaron la materia la calificación aprobatoria es 7\n",
    "n:int = 25\n",
    "alumnos_aprobados:int = 0\n",
    "\n",
    "for i in range(1, n+1):\n",
    " cal = random.randint(5, 10)\n",
    " if cal >= 7:\n",
    "  alumnos_aprobados += 1\n",
    "\n",
    "print(f\"alumnos aprobados: {alumnos_aprobados}\")\n",
    "print(f\"alumnos reprobados: {n - alumnos_aprobados}\")\n",
    "\n",
    "    \n"
   ]
  },
  {
   "cell_type": "code",
   "execution_count": 26,
   "metadata": {},
   "outputs": [
    {
     "name": "stdout",
     "output_type": "stream",
     "text": [
      "2\n",
      "83^2 = 6889\n"
     ]
    }
   ],
   "source": [
    "#escriba un dfd de que calsule el cuadrado de n números positivo leído por el teclado \n",
    "num_pos = random.randint(1,20)\n",
    "print(f\"{num_pos}\")\n",
    "for _ in range(1,n):\n",
    "    num_pos = random.randint(1,100)\n",
    "print(f\"{num_pos}^2 = {num_pos**2}\")\n",
    "\n"
   ]
  },
  {
   "cell_type": "code",
   "execution_count": null,
   "metadata": {},
   "outputs": [],
   "source": []
  },
  {
   "cell_type": "markdown",
   "metadata": {},
   "source": [
    "####HOLA BUENAS TARDE"
   ]
  },
  {
   "cell_type": "markdown",
   "metadata": {},
   "source": []
  }
 ],
 "metadata": {
  "kernelspec": {
   "display_name": "Python 3",
   "language": "python",
   "name": "python3"
  },
  "language_info": {
   "codemirror_mode": {
    "name": "ipython",
    "version": 3
   },
   "file_extension": ".py",
   "mimetype": "text/x-python",
   "name": "python",
   "nbconvert_exporter": "python",
   "pygments_lexer": "ipython3",
   "version": "3.11.4"
  },
  "orig_nbformat": 4
 },
 "nbformat": 4,
 "nbformat_minor": 2
}
