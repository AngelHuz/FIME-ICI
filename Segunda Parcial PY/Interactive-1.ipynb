{
 "cells": [
  {
   "cell_type": "code",
   "execution_count": null,
   "metadata": {},
   "outputs": [
    {
     "ename": "",
     "evalue": "",
     "output_type": "error",
     "traceback": [
      "\u001b[1;31mRunning cells with 'c:\\msys64\\mingw64\\bin\\python.exe' requires the ipykernel package.\n",
      "\u001b[1;31mRun the following command to install 'ipykernel' into the Python environment. \n",
      "\u001b[1;31mCommand: 'c:/msys64/mingw64/bin/python.exe -m pip install ipykernel -U --user --force-reinstall'"
     ]
    }
   ],
   "source": [
    "from guizero import Text, TextBox, PushButton, App\n",
    "##Se desea saber la cantidad de alumnos que pasaron una materia\n",
    "##Son 25 alumnos y la calificación aprobatoría es 7\n",
    "\n",
    "def contar_aprobados_reprobados():\n",
    "    calificaciones:float = [float(entrada.value) for entrada in entradas]\n",
    "    aprobados:int = (sum for calificacion in calificaciones if calificacion >= 7)\n",
    "    reprobados:int = 25 - aprobados\n",
    "    resultado_aprobados.value = (f\"Aprobados: {aprobados} alumnos\")\n",
    "    resultado_reprobados.value = (f\"Reprobados: {reprobados} alumnos\")\n",
    "\n",
    "app = App(\"Contador de Alumnos Aprobados/Reprobados\", width=300, height=300)\n",
    "\n",
    "instruccion = Text(app, \"Ingrese la calificación de cada alumno (0-10):\")\n",
    "entradas = [TextBox(app) for _ in range(25)]\n",
    "\n",
    "calcular_button = PushButton(app, text=\"Calcular\", command=contar_aprobados_reprobados)\n",
    "resultado_aprobados = Text(app, \"\")\n",
    "resultado_reprobados = Text(app, \"\")\n",
    "\n",
    "app.display()"
   ]
  }
 ],
 "metadata": {
  "kernelspec": {
   "display_name": "Python 3",
   "language": "python",
   "name": "python3"
  },
  "language_info": {
   "name": "python",
   "version": "3.11.5"
  }
 },
 "nbformat": 4,
 "nbformat_minor": 2
}
